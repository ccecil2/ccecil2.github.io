{
 "cells": [
  {
   "cell_type": "code",
   "execution_count": 1,
   "metadata": {},
   "outputs": [],
   "source": [
    "import re\n",
    "import os\n",
    "import io\n",
    "import statistics\n",
    "import pandas as pd\n",
    "from sklearn.model_selection import KFold"
   ]
  },
  {
   "cell_type": "code",
   "execution_count": 2,
   "metadata": {},
   "outputs": [],
   "source": [
    "def clean_text(text):\n",
    "    text = text.lower()\n",
    "    text = re.sub(\"[\\\":\\?!\\(\\);,\\*~]|\\.{2,}|<br /><br />|-{2,}|\\s-\\s\", \" \", text)\n",
    "    text = re.sub(\"([a-z])\\.\", \"\\g<1>\", text)\n",
    "    text = re.sub(\"\\s+\\.|\\.\\Z\", \"\", text)\n",
    "    return re.sub(\"\\s{2,}\", \" \", text)"
   ]
  },
  {
   "cell_type": "code",
   "execution_count": 3,
   "metadata": {},
   "outputs": [],
   "source": [
    "def extract_text(file_name):\n",
    "    ret = []\n",
    "    \n",
    "    for root, dirs, files in os.walk(file_name[:-1]):    \n",
    "        for name in files:\n",
    "            with io.open(file_name + name, \"r\", encoding=\"utf-8\") as file:\n",
    "                ret.append(clean_text(file.read()))\n",
    "    \n",
    "    return ret"
   ]
  },
  {
   "cell_type": "code",
   "execution_count": 4,
   "metadata": {},
   "outputs": [],
   "source": [
    "def create_review_data(pos_file_name, neg_file_name):\n",
    "    train_text_positive = extract_text(pos_file_name)\n",
    "    train_text_negative = extract_text(neg_file_name)\n",
    "    \n",
    "    train_pos = pd.DataFrame(data=train_text_positive, columns=[\"review\"])\n",
    "    train_pos[\"sentiment\"] = \"positive\"\n",
    "    \n",
    "    train_neg = pd.DataFrame(data=train_text_negative, columns=[\"review\"])\n",
    "    train_neg[\"sentiment\"] = \"negative\"\n",
    "    \n",
    "    return pd.concat([train_pos, train_neg])"
   ]
  },
  {
   "cell_type": "markdown",
   "metadata": {},
   "source": [
    "### Create the word list"
   ]
  },
  {
   "cell_type": "code",
   "execution_count": 5,
   "metadata": {},
   "outputs": [],
   "source": [
    "def create_word_lists(data):    \n",
    "    positive_words = dict()\n",
    "    negative_words = dict()\n",
    "    all_words = dict()\n",
    "\n",
    "    i = 0\n",
    "    \n",
    "    for review in data[\"review\"]:\n",
    "        review = review.split(\" \")\n",
    "        #iloc didn't want to work with the value from a for loop\n",
    "        #so I adjusted it to be manual\n",
    "        current = data.iloc[i]\n",
    "\n",
    "        if current[\"sentiment\"] == \"positive\":\n",
    "            for word in review:\n",
    "                if word in positive_words.keys():\n",
    "                    positive_words[word].append(i)\n",
    "                else:\n",
    "                    positive_words[word] = [i]\n",
    "                    \n",
    "                if word in all_words.keys():\n",
    "                    all_words[word].append(i)\n",
    "                else:\n",
    "                    all_words[word] = [i]\n",
    "        else:\n",
    "            for word in review:\n",
    "                if word in negative_words.keys():\n",
    "                    negative_words[word].append(i)\n",
    "                else:\n",
    "                    negative_words[word] = [i]\n",
    "                    \n",
    "                if word in all_words.keys():\n",
    "                    all_words[word].append(i)\n",
    "                else:\n",
    "                    all_words[word] = [i]\n",
    "\n",
    "        i += 1\n",
    "                    \n",
    "    for i in positive_words:\n",
    "        positive_words[i] = len(set(positive_words[i]))\n",
    "        \n",
    "    for i in negative_words:\n",
    "        negative_words[i] = len(set(negative_words[i]))\n",
    "        \n",
    "    for i in all_words:\n",
    "        all_words[i] = len(set(all_words[i]))\n",
    "        \n",
    "    positive_words = {k: v for k, v in positive_words.items() if v > 5}\n",
    "    negative_words = {k: v for k, v in negative_words.items() if v > 5}\n",
    "    all_words = {k: v for k, v in all_words.items() if v > 5}\n",
    "    \n",
    "    return positive_words, negative_words, all_words"
   ]
  },
  {
   "cell_type": "markdown",
   "metadata": {},
   "source": [
    "### Run naive bayes"
   ]
  },
  {
   "cell_type": "code",
   "execution_count": 6,
   "metadata": {},
   "outputs": [],
   "source": [
    "def naive_bayes(train_data, test_data, smoothing):\n",
    "    positive_words, negative_words, all_words = create_word_lists(train_data)\n",
    "    \n",
    "    total_documents = train_data.size\n",
    "    positive_documents = train_data[train_data[\"sentiment\"] == \"positive\"].size\n",
    "    negative_documents = total_documents - positive_documents\n",
    "    \n",
    "    unique_positive = len(positive_words)\n",
    "    unique_negative = len(negative_words)\n",
    "    \n",
    "    p_positive = positive_documents / total_documents\n",
    "    p_negative = negative_documents / total_documents\n",
    "    \n",
    "    accuracies = []\n",
    "    \n",
    "    i = 0\n",
    "    \n",
    "    for review in test_data:\n",
    "        review = review.split(\" \")\n",
    "        current = data.iloc[i]\n",
    "        pos_num = p_positive\n",
    "        neg_num = p_negative\n",
    "        denom = 1\n",
    "        \n",
    "        for word in review:\n",
    "            denom *= all_words[word] / total_documents\n",
    "            \n",
    "            if word not in positive_words.keys():\n",
    "                positive_words[word] = 0\n",
    "                \n",
    "            if word not in negative_words.keys():\n",
    "                negative_words[word] = 0\n",
    "        \n",
    "            if smoothing:\n",
    "                pos_num *= (positive_words[word] + 1) / (positive_documents + unique_positive)\n",
    "                neg_num *= (negative_words[word] + 1) / (negative_documents + unique_negative)\n",
    "            else:\n",
    "                pos_num *= positive_words[word] / positive_documents\n",
    "                neg_num *= negative_words[word] / negative_documents\n",
    "        \n",
    "        if pos_num > neg_num:\n",
    "            if current[\"sentiment\"] == \"positive\":\n",
    "                accuracies.append(1)\n",
    "            else:\n",
    "                accuracies.append(0)\n",
    "        else:\n",
    "            if current[\"sentiment\"] == \"negative\":\n",
    "                accuracies.append(1)\n",
    "            else:\n",
    "                accuracies.append(0)\n",
    "        \n",
    "        i += 1\n",
    "        \n",
    "    print(\"The accuracy is\", statistics.mean(accuracies))"
   ]
  },
  {
   "cell_type": "markdown",
   "metadata": {},
   "source": [
    "### Determine information about \"the\""
   ]
  },
  {
   "cell_type": "code",
   "execution_count": 7,
   "metadata": {},
   "outputs": [
    {
     "name": "stdout",
     "output_type": "stream",
     "text": [
      "P['the'] = 0.49582\n",
      "P['the' | Positive] = 0.4952\n",
      "P['the' | Negative] = 0.49644\n"
     ]
    }
   ],
   "source": [
    "data = create_review_data(\"./train/pos/\", \"./train/neg/\")\n",
    "\n",
    "positive_words, negative_words, all_words = create_word_lists(data)\n",
    "\n",
    "document_count = data.size\n",
    "\n",
    "print(\"P['the'] =\", all_words[\"the\"] / document_count)\n",
    "print(\"P['the' | Positive] =\", positive_words[\"the\"] / (document_count / 2))\n",
    "print(\"P['the' | Negative] =\", negative_words[\"the\"] / (document_count / 2))"
   ]
  },
  {
   "cell_type": "markdown",
   "metadata": {},
   "source": [
    "### 5-fold cross validation, no smoothing"
   ]
  },
  {
   "cell_type": "code",
   "execution_count": 8,
   "metadata": {},
   "outputs": [
    {
     "name": "stdout",
     "output_type": "stream",
     "text": [
      "The accuracy is 0.5\n",
      "The accuracy is 0.5\n",
      "The accuracy is 0.5\n",
      "The accuracy is 0.5\n",
      "The accuracy is 0.5\n"
     ]
    }
   ],
   "source": [
    "data = data.sample(frac=1)\n",
    "\n",
    "data = data.reset_index(drop=True)\n",
    "\n",
    "kf = KFold(n_splits=5)\n",
    "\n",
    "for train_index, test_index in kf.split(data):\n",
    "    \n",
    "    train_data = data.iloc[train_index]\n",
    "    test_data = data.iloc[test_index]\n",
    "    \n",
    "    naive_bayes(train_data, test_data, False)"
   ]
  },
  {
   "cell_type": "markdown",
   "metadata": {},
   "source": [
    "### 5-fold cross validation, smoothing"
   ]
  },
  {
   "cell_type": "code",
   "execution_count": 9,
   "metadata": {},
   "outputs": [
    {
     "name": "stdout",
     "output_type": "stream",
     "text": [
      "The accuracy is 0.5\n",
      "The accuracy is 0.5\n",
      "The accuracy is 0.5\n",
      "The accuracy is 0.5\n",
      "The accuracy is 0.5\n"
     ]
    }
   ],
   "source": [
    "for train_index, test_index in kf.split(data):\n",
    "    \n",
    "    train_data = data.iloc[train_index]\n",
    "    test_data = data.iloc[test_index]\n",
    "    \n",
    "    naive_bayes(train_data, test_data, True)"
   ]
  },
  {
   "cell_type": "markdown",
   "metadata": {},
   "source": [
    "### Top positive and negative"
   ]
  },
  {
   "cell_type": "code",
   "execution_count": 10,
   "metadata": {},
   "outputs": [
    {
     "name": "stdout",
     "output_type": "stream",
     "text": [
      "Top 10 positive: [('cannavale', 2.0), ('transitional', 2.0), ('quibble', 2.0), ('first-class', 2.0), ('cynics', 2.0), ('subtler', 2.0), ('beguiling', 2.0), ('xu', 2.0), ('zhu', 2.0), ('liang', 2.0)]\n",
      "Top 10 negative: [('747', 2.0), ('pataki', 2.0), ('howlers', 2.0), ('rosanna', 2.0), ('kareena', 2.0), ('saif', 2.0), ('tashan', 2.0), ('acharya', 2.0), ('recoil', 2.0), ('bhai', 2.0)]\n"
     ]
    }
   ],
   "source": [
    "positive = []\n",
    "negative = []\n",
    "\n",
    "for k, v in positive_words.items():\n",
    "    probability = (positive_words[k] / (document_count / 2)) / (all_words[k] / document_count)\n",
    "    positive.append((k, probability))\n",
    "    \n",
    "for k, v in negative_words.items():\n",
    "    probability = (negative_words[k] / (document_count / 2)) / (all_words[k] / document_count)\n",
    "    negative.append((k, probability))\n",
    "    \n",
    "positive = sorted(positive, key=lambda x: x[1], reverse=True)[:10]\n",
    "negative = sorted(negative, key=lambda x: x[1], reverse=True)[:10]\n",
    "\n",
    "print(\"Top 10 positive: \" + str(positive))\n",
    "print(\"Top 10 negative: \" + str(negative))"
   ]
  },
  {
   "cell_type": "markdown",
   "metadata": {},
   "source": [
    "### Test set"
   ]
  },
  {
   "cell_type": "code",
   "execution_count": 11,
   "metadata": {},
   "outputs": [
    {
     "name": "stdout",
     "output_type": "stream",
     "text": [
      "The accuracy is 0.5\n",
      "The accuracy is 0.5\n",
      "The accuracy is 0.5\n",
      "The accuracy is 0.5\n",
      "The accuracy is 0.5\n"
     ]
    }
   ],
   "source": [
    "data = create_review_data(\"./test/pos/\", \"./test/neg/\")\n",
    "\n",
    "data = data.sample(frac=1)\n",
    "\n",
    "data = data.reset_index(drop=True)\n",
    "\n",
    "kf = KFold(n_splits=5)\n",
    "\n",
    "for train_index, test_index in kf.split(data):\n",
    "    \n",
    "    train_data = data.iloc[train_index]\n",
    "    test_data = data.iloc[test_index]\n",
    "    \n",
    "    naive_bayes(train_data, test_data, False)"
   ]
  },
  {
   "cell_type": "code",
   "execution_count": null,
   "metadata": {},
   "outputs": [],
   "source": []
  }
 ],
 "metadata": {
  "kernelspec": {
   "display_name": "Python 3",
   "language": "python",
   "name": "python3"
  },
  "language_info": {
   "codemirror_mode": {
    "name": "ipython",
    "version": 3
   },
   "file_extension": ".py",
   "mimetype": "text/x-python",
   "name": "python",
   "nbconvert_exporter": "python",
   "pygments_lexer": "ipython3",
   "version": "3.8.3"
  }
 },
 "nbformat": 4,
 "nbformat_minor": 4
}
